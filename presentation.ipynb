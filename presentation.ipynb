{
 "cells": [
  {
   "cell_type": "markdown",
   "metadata": {
    "slideshow": {
     "slide_type": "slide"
    }
   },
   "source": [
    "# Variables in the World Happiness Report \n",
    "\n",
    "## by Danya Ramirez"
   ]
  },
  {
   "cell_type": "markdown",
   "metadata": {
    "slideshow": {
     "slide_type": "slide"
    }
   },
   "source": [
    "## Investigation Overview"
   ]
  },
  {
   "cell_type": "markdown",
   "metadata": {
    "slideshow": {
     "slide_type": "slide"
    }
   },
   "source": [
    "Data is everywhere nowadays, and lots of it. "
   ]
  },
  {
   "cell_type": "markdown",
   "metadata": {
    "slideshow": {
     "slide_type": "slide"
    }
   },
   "source": [
    "Sometimes, this is necessary. But sometimes, it may seem overreach. "
   ]
  },
  {
   "cell_type": "markdown",
   "metadata": {
    "slideshow": {
     "slide_type": "slide"
    }
   },
   "source": [
    "This humble analysis intends to detect whether or not all variables in the World Happiness Report should be included."
   ]
  },
  {
   "cell_type": "markdown",
   "metadata": {
    "slideshow": {
     "slide_type": "slide"
    }
   },
   "source": [
    "## Dataset Overview"
   ]
  },
  {
   "cell_type": "markdown",
   "metadata": {
    "slideshow": {
     "slide_type": "slide"
    }
   },
   "source": [
    "The analysis explores data from the World Happiness Report (2016 - 2017 - 2018 - 2019)."
   ]
  },
  {
   "cell_type": "markdown",
   "metadata": {
    "slideshow": {
     "slide_type": "slide"
    }
   },
   "source": [
    "This is a landmark survey of the state of global happiness that ranks 156 countries by how happy their citizens perceive themselves to be (from [data.world](http://data.world)). "
   ]
  },
  {
   "cell_type": "markdown",
   "metadata": {
    "slideshow": {
     "slide_type": "slide"
    }
   },
   "source": [
    "The report also includes results from the Gallup survey, which scores citizens' perceptions regarding their situation in relation to a variety of topics."
   ]
  },
  {
   "cell_type": "markdown",
   "metadata": {
    "slideshow": {
     "slide_type": "slide"
    }
   },
   "source": [
    "The dataset contains nine variables and 624 rows. "
   ]
  },
  {
   "cell_type": "markdown",
   "metadata": {
    "slideshow": {
     "slide_type": "slide"
    }
   },
   "source": [
    "The variables include: \n",
    "- country\n",
    "- year \n",
    "- happiness score \n",
    "- GDP per capita \n",
    "- social support\n",
    "- Healthy Life Expectancy\n",
    "- perception of freedom to make choices\n",
    "- generosity\n",
    "- and perceptions of corruption in government and businesses"
   ]
  },
  {
   "cell_type": "code",
   "execution_count": 1,
   "metadata": {
    "slideshow": {
     "slide_type": "skip"
    }
   },
   "outputs": [],
   "source": [
    "# import all packages and set plots to be embedded inline\n",
    "import numpy as np\n",
    "import pandas as pd\n",
    "import matplotlib.pyplot as plt\n",
    "import matplotlib\n",
    "import seaborn as sb\n",
    "import plotly.express as px\n",
    "\n",
    "%matplotlib inline\n",
    "\n",
    "# suppress warnings from final output\n",
    "import warnings\n",
    "warnings.simplefilter(\"ignore\")"
   ]
  },
  {
   "cell_type": "code",
   "execution_count": 2,
   "metadata": {
    "slideshow": {
     "slide_type": "skip"
    }
   },
   "outputs": [],
   "source": [
    "# load in the dataset into a pandas dataframe\n",
    "happy = pd.read_csv(\"world_happiness_report.csv\")"
   ]
  },
  {
   "cell_type": "code",
   "execution_count": 3,
   "metadata": {
    "slideshow": {
     "slide_type": "skip"
    }
   },
   "outputs": [],
   "source": [
    "# Create a copy of the dataframe to keep all the original data untouched\n",
    "happy_original = happy.copy()"
   ]
  },
  {
   "cell_type": "code",
   "execution_count": 4,
   "metadata": {
    "slideshow": {
     "slide_type": "skip"
    }
   },
   "outputs": [],
   "source": [
    "# In order to keep the data as consistent as possible within the country, replace the null value with the mean of\n",
    "# the values associated with this country only.\n",
    "uae = happy.query(\"Country == 'United Arab Emirates'\")\n",
    "happy.at[331,'Perceptions of corruption'] = uae[\"Perceptions of corruption\"].mean()"
   ]
  },
  {
   "cell_type": "code",
   "execution_count": 5,
   "metadata": {
    "slideshow": {
     "slide_type": "skip"
    }
   },
   "outputs": [],
   "source": [
    "# Change column names to more manageable names\n",
    "happy.rename(columns={\"Country\":\"country\", \"Year\":\"year\", \"Score\":\"score\",\"Social support\":\"support\",\n",
    "                      \"GDP per capita\": \"gdp_pc\", \"Healthy life expectancy\": \"hale\", \n",
    "                      \"Freedom to make life choices\":\"freedom\", \"Generosity\": \"gen\", \n",
    "                      \"Perceptions of corruption\":\"perc_corr\"}, inplace=True)"
   ]
  },
  {
   "cell_type": "markdown",
   "metadata": {
    "slideshow": {
     "slide_type": "slide"
    }
   },
   "source": [
    "## What is the happiness score worldwide?"
   ]
  },
  {
   "cell_type": "markdown",
   "metadata": {
    "slideshow": {
     "slide_type": "slide"
    }
   },
   "source": [
    "### If we consider the happiness score as a range from 0 to 10, "
   ]
  },
  {
   "cell_type": "markdown",
   "metadata": {
    "slideshow": {
     "slide_type": "slide"
    }
   },
   "source": [
    "### what was the score worldwide? Did it improve from 2016 to 2019?"
   ]
  },
  {
   "cell_type": "code",
   "execution_count": 6,
   "metadata": {
    "slideshow": {
     "slide_type": "skip"
    }
   },
   "outputs": [],
   "source": [
    "# Isolate data for score means per year\n",
    "years = happy.groupby(\"year\", as_index = False)[\"score\"].mean()"
   ]
  },
  {
   "cell_type": "code",
   "execution_count": 13,
   "metadata": {
    "slideshow": {
     "slide_type": "subslide"
    }
   },
   "outputs": [
    {
     "data": {
      "image/png": "[encoded data removed]",
      "text/plain": [
       "<Figure size 1080x360 with 1 Axes>"
      ]
     },
     "metadata": {
      "needs_background": "light"
     },
     "output_type": "display_data"
    }
   ],
   "source": [
    "fig, ax = plt.subplots(figsize=[15,5])\n",
    "base_color = sb.color_palette()[1]\n",
    "plot = sb.pointplot(ax = ax, data = years, x = \"year\", y = \"score\", color = base_color)\n",
    "plot.axes.set_title(\"Average Happiness Scores Worldwide\\n Remained Constant from 2016 to 2019\",fontsize=15)\n",
    "plot.set_xlabel(\"Year\",fontsize=14)\n",
    "plot.set_ylabel(\"Average Happiness Score\",fontsize=14)\n",
    "plt.ylim(0, 10);"
   ]
  },
  {
   "cell_type": "markdown",
   "metadata": {
    "slideshow": {
     "slide_type": "slide"
    }
   },
   "source": [
    "### What did we learn?"
   ]
  },
  {
   "cell_type": "markdown",
   "metadata": {
    "slideshow": {
     "slide_type": "slide"
    }
   },
   "source": [
    "That happiness scores around the world remained stable from 2016 to 2019 between 5.3 and 5.4."
   ]
  },
  {
   "cell_type": "markdown",
   "metadata": {
    "collapsed": true,
    "slideshow": {
     "slide_type": "slide"
    }
   },
   "source": [
    "## Let's look further."
   ]
  },
  {
   "cell_type": "markdown",
   "metadata": {
    "slideshow": {
     "slide_type": "slide"
    }
   },
   "source": [
    "## Which countries had the highest and lowest happiness scores in 2019?\n"
   ]
  },
  {
   "cell_type": "code",
   "execution_count": null,
   "metadata": {
    "slideshow": {
     "slide_type": "skip"
    }
   },
   "outputs": [],
   "source": [
    "# Isolate data for 2019\n",
    "y2019 = happy.query(\"year == '2019'\")"
   ]
  },
  {
   "cell_type": "code",
   "execution_count": null,
   "metadata": {
    "slideshow": {
     "slide_type": "subslide"
    }
   },
   "outputs": [],
   "source": [
    "# Create horizontal barplot (interactive) with all happiness scores for 2019.\n",
    "fig = px.bar(y2019, x = 'score', y = 'country', \n",
    "             hover_data = {\"score\":\":.2f\"}, \n",
    "             height = 3500,\n",
    "             color_discrete_sequence =['orange']*len(y2019),\n",
    "             labels={\n",
    "                     \"score\": \"Happiness Score\",\n",
    "                     \"country\": \"Country\"\n",
    "                 })\n",
    "\n",
    "fig.update_layout(\n",
    "    font_family = \"Avenir\",\n",
    "    font_color = \"Black\",\n",
    "    font_size = 13,\n",
    "    title_font_family = \"Avenir\",\n",
    "    title_font_color = \"Dark Gray\",\n",
    "    title = \"World Happiness Scores for 2019 per country\",\n",
    "    title_font_size = 15,\n",
    "    legend_title_font_color = \"Black\",\n",
    "    plot_bgcolor= 'rgba(0, 0, 0, 0)')\n",
    "    \n",
    "\n",
    "fig.update_xaxes(title_font_family = \"Avenir\")"
   ]
  },
  {
   "cell_type": "markdown",
   "metadata": {
    "slideshow": {
     "slide_type": "slide"
    }
   },
   "source": [
    "### What did we learn?"
   ]
  },
  {
   "cell_type": "markdown",
   "metadata": {
    "slideshow": {
     "slide_type": "slide"
    }
   },
   "source": [
    "Western countries in Europe and the American Continent, and African and Middle Eastern countries seem to be at opposite ends of the Happiness Score continuum. "
   ]
  },
  {
   "cell_type": "markdown",
   "metadata": {
    "slideshow": {
     "slide_type": "slide"
    }
   },
   "source": [
    "Countries in Western Europe and the American Continent toward the highest end, and African and Middle Eastern countries, toward the lowest end."
   ]
  },
  {
   "cell_type": "markdown",
   "metadata": {
    "slideshow": {
     "slide_type": "slide"
    }
   },
   "source": [
    "Some exceptions to that rule: Israel, UAE and Saudi Arabia are some of the Middle Eastern countries on the higher score group."
   ]
  },
  {
   "cell_type": "markdown",
   "metadata": {
    "slideshow": {
     "slide_type": "slide"
    }
   },
   "source": [
    "## How does Happiness Score correlate with the other variables in the report?"
   ]
  },
  {
   "cell_type": "code",
   "execution_count": null,
   "metadata": {
    "slideshow": {
     "slide_type": "skip"
    }
   },
   "outputs": [],
   "source": [
    "# Isolate numerical variables to create a correlation matrix\n",
    "numeric = happy[[\"score\", \"gdp_pc\", \"support\", \"hale\", \"freedom\", \"gen\", \"perc_corr\"]]"
   ]
  },
  {
   "cell_type": "code",
   "execution_count": null,
   "metadata": {
    "slideshow": {
     "slide_type": "subslide"
    }
   },
   "outputs": [],
   "source": [
    "# Create correlation matrix heatmap plot (code guide from https://heartbeat.fritz.ai/)\n",
    "fig = plt.figure(figsize = [10,8])\n",
    "matrix = np.triu(numeric.corr())\n",
    "x_axis_labels = [\"Happiness score\", \"GDP per capita\", \"Social support\", \"Healthy Life Expectancy\", \"Freedom of choice\", \"Generosity\", \"Perceptions of corruption\"]\n",
    "y_axis_labels = [\"Happiness score\", \"GDP per capita\", \"Social support\", \"Healthy Life Expectancy\", \"Freedom of choice\", \"Generosity\", \"Perceptions of corruption\"]\n",
    "sb.heatmap(numeric.corr(), annot = True, cmap = 'coolwarm', mask=matrix, xticklabels=x_axis_labels, yticklabels=y_axis_labels)\n",
    "plt.yticks(rotation = 0)\n",
    "plt.xticks(rotation = 45);"
   ]
  },
  {
   "cell_type": "markdown",
   "metadata": {
    "slideshow": {
     "slide_type": "slide"
    }
   },
   "source": [
    "### What did we learn?"
   ]
  },
  {
   "cell_type": "markdown",
   "metadata": {
    "slideshow": {
     "slide_type": "slide"
    }
   },
   "source": [
    "All variables are at least moderately correlated with Happiness Score, except for \"Generosity.\""
   ]
  },
  {
   "cell_type": "markdown",
   "metadata": {
    "slideshow": {
     "slide_type": "slide"
    }
   },
   "source": [
    "Besides Healthy Life Expectancy and GDP per capita, Social support generated the strongest correlation with the score."
   ]
  },
  {
   "cell_type": "markdown",
   "metadata": {
    "slideshow": {
     "slide_type": "slide"
    }
   },
   "source": [
    "## Are these correlations kept accross time?"
   ]
  },
  {
   "cell_type": "markdown",
   "metadata": {
    "slideshow": {
     "slide_type": "slide"
    }
   },
   "source": [
    "The following scatter plots show a lack of correlation across the board for *generosity* and *happiness scores*."
   ]
  },
  {
   "cell_type": "code",
   "execution_count": null,
   "metadata": {
    "slideshow": {
     "slide_type": "subslide"
    }
   },
   "outputs": [],
   "source": [
    "# Create Faceted Grids with scatterplots for the happiness score and generosity, one per year 2016, 2017, 2018, 2019.\n",
    "g = sb.FacetGrid(data = happy, col = \"year\", height = 4)\n",
    "g.map(sb.scatterplot, \"score\", \"gen\")\n",
    "g.set_titles('{col_name}')\n",
    "g.axes[0,0].set_xlabel('Happiness score', fontsize='x-large')\n",
    "g.axes[0,1].set_xlabel('Happiness score', fontsize='x-large')\n",
    "g.axes[0,2].set_xlabel('Happiness score', fontsize='x-large')\n",
    "g.axes[0,3].set_xlabel('Happiness score', fontsize='x-large')\n",
    "for ax in g.axes.flat:\n",
    "    ax.set_title(ax.get_title(), fontsize='xx-large')\n",
    "    ax.set_ylabel(\"Social Support\", fontsize='x-large');"
   ]
  },
  {
   "cell_type": "markdown",
   "metadata": {},
   "source": [
    "### What did we learn?"
   ]
  },
  {
   "cell_type": "markdown",
   "metadata": {
    "slideshow": {
     "slide_type": "slide"
    }
   },
   "source": [
    "While these show how the correlation between *support* and *happiness scores* has increased over time."
   ]
  },
  {
   "cell_type": "markdown",
   "metadata": {
    "slideshow": {
     "slide_type": "slide"
    }
   },
   "source": [
    "(Indeed, when grouped by year, the correlation goes over 0.7 every year.)"
   ]
  },
  {
   "cell_type": "code",
   "execution_count": null,
   "metadata": {
    "slideshow": {
     "slide_type": "subslide"
    }
   },
   "outputs": [],
   "source": [
    "# Create Faceted Grids with scatterplots for the happiness score and support, one per year 2016, 2017, 2018, 2019.\n",
    "g = sb.FacetGrid(data = happy, col = \"year\", height = 4)\n",
    "g.map(sb.scatterplot, \"score\", \"support\")\n",
    "g.set_titles('{col_name}')\n",
    "g.axes[0,0].set_xlabel('Happiness score', fontsize='x-large')\n",
    "g.axes[0,1].set_xlabel('Happiness score', fontsize='x-large')\n",
    "g.axes[0,2].set_xlabel('Happiness score', fontsize='x-large')\n",
    "g.axes[0,3].set_xlabel('Happiness score', fontsize='x-large')\n",
    "for ax in g.axes.flat:\n",
    "    ax.set_title(ax.get_title(), fontsize='xx-large')\n",
    "    ax.set_ylabel(\"Social Support\", fontsize='x-large');"
   ]
  },
  {
   "cell_type": "markdown",
   "metadata": {
    "slideshow": {
     "slide_type": "slide"
    }
   },
   "source": [
    "### To sum up..."
   ]
  },
  {
   "cell_type": "markdown",
   "metadata": {
    "slideshow": {
     "slide_type": "slide"
    }
   },
   "source": [
    "\"Generosity\" - at least how it is defined in this report - has no correlation with Happiness Scores."
   ]
  },
  {
   "cell_type": "markdown",
   "metadata": {
    "slideshow": {
     "slide_type": "slide"
    }
   },
   "source": [
    "Which is not necessarily unexpected:"
   ]
  },
  {
   "cell_type": "markdown",
   "metadata": {
    "slideshow": {
     "slide_type": "slide"
    }
   },
   "source": [
    "Generosity was defined as the ratio of donations in the year over GDP per capita. "
   ]
  },
  {
   "cell_type": "markdown",
   "metadata": {
    "slideshow": {
     "slide_type": "slide"
    }
   },
   "source": [
    "In this regard, does a higher GDP necessarily entail that all economic groups in a country have spare resources to donate? "
   ]
  },
  {
   "cell_type": "markdown",
   "metadata": {
    "slideshow": {
     "slide_type": "slide"
    }
   },
   "source": [
    "Moreover, is the term \"generosity\" not receiving a rather narrow definition in this report?"
   ]
  },
  {
   "cell_type": "markdown",
   "metadata": {
    "slideshow": {
     "slide_type": "slide"
    }
   },
   "source": [
    "Different cultures may regard generosity in different ways that are either as or more impactful and/or satisfactory than monetary transactions. "
   ]
  },
  {
   "cell_type": "markdown",
   "metadata": {
    "slideshow": {
     "slide_type": "slide"
    }
   },
   "source": [
    "In any case, the lack of correlation leaves unexplained why this variable was included in the report."
   ]
  },
  {
   "cell_type": "markdown",
   "metadata": {
    "slideshow": {
     "slide_type": "slide"
    }
   },
   "source": [
    "On the other hand, besides GDP per capita and Healthy Life Expectancy - variables that are not determined by people's *perceptions*-"
   ]
  },
  {
   "cell_type": "markdown",
   "metadata": {
    "slideshow": {
     "slide_type": "slide"
    }
   },
   "source": [
    "Social Support - or having people to count on in times of trouble - is the variable that most strongly correlates with the Happiness Score."
   ]
  },
  {
   "cell_type": "markdown",
   "metadata": {
    "slideshow": {
     "slide_type": "slide"
    }
   },
   "source": [
    "...Financial resources, health and community. It makes sense."
   ]
  },
  {
   "cell_type": "markdown",
   "metadata": {
    "slideshow": {
     "slide_type": "slide"
    }
   },
   "source": [
    "All this means that besides making sure people have access to a dignified income and health care, "
   ]
  },
  {
   "cell_type": "markdown",
   "metadata": {
    "slideshow": {
     "slide_type": "slide"
    }
   },
   "source": [
    "it is important that people create and maintain meaningful social networks,"
   ]
  },
  {
   "cell_type": "markdown",
   "metadata": {
    "slideshow": {
     "slide_type": "slide"
    }
   },
   "source": [
    "and that local organizations, governments and businesses provide citizens with the time flexibility, the place, and the support to overcome limitations to do so. Regardless of race, gender, age, sexual orientations, and religion."
   ]
  },
  {
   "cell_type": "markdown",
   "metadata": {
    "slideshow": {
     "slide_type": "slide"
    }
   },
   "source": [
    "### Back to you: "
   ]
  },
  {
   "cell_type": "markdown",
   "metadata": {
    "slideshow": {
     "slide_type": "slide"
    }
   },
   "source": [
    "Do you feel that you have social support? How could you contribute to the creation of social support networks in your community or workplace?"
   ]
  },
  {
   "cell_type": "code",
   "execution_count": null,
   "metadata": {
    "slideshow": {
     "slide_type": "skip"
    }
   },
   "outputs": [
    {
     "name": "stdout",
     "output_type": "stream",
     "text": [
      "[NbConvertApp] Converting notebook presentation.ipynb to slides\n",
      "[NbConvertApp] Writing 608002 bytes to presentation.slides.html\n",
      "[NbConvertApp] Redirecting reveal.js requests to https://cdnjs.cloudflare.com/ajax/libs/reveal.js/3.5.0\n",
      "Serving your slides at http://127.0.0.1:8000/presentation.slides.html\n",
      "Use Control-C to stop this server\n"
     ]
    }
   ],
   "source": [
    "!jupyter nbconvert presentation.ipynb --to slides --post serve  --no-input --no-prompt"
   ]
  },
  {
   "cell_type": "code",
   "execution_count": null,
   "metadata": {},
   "outputs": [],
   "source": []
  }
 ],
 "metadata": {
  "celltoolbar": "Slideshow",
  "kernelspec": {
   "display_name": "Python 3",
   "language": "python",
   "name": "python3"
  },
  "language_info": {
   "codemirror_mode": {
    "name": "ipython",
    "version": 3
   },
   "file_extension": ".py",
   "mimetype": "text/x-python",
   "name": "python",
   "nbconvert_exporter": "python",
   "pygments_lexer": "ipython3",
   "version": "3.7.9"
  }
 },
 "nbformat": 4,
 "nbformat_minor": 2
}
